{
 "cells": [
  {
   "cell_type": "markdown",
   "metadata": {},
   "source": [
    "# Ban User 목록 불러오기"
   ]
  },
  {
   "cell_type": "code",
   "execution_count": 2,
   "metadata": {
    "ExecuteTime": {
     "end_time": "2024-05-28T07:15:05.047722Z",
     "start_time": "2024-05-28T07:15:04.552717Z"
    }
   },
   "outputs": [],
   "source": [
    "import requests\n",
    "\n",
    "# Banned Player List 가져오기\n",
    "url = \"https://api.gametools.network/\"\n",
    "response = requests.get(url+\"bfban/banned_players/\")\n",
    "\n",
    "banned_user_ids = []\n",
    "if response.status_code == 200:\n",
    "    # 성공적으로 데이터를 받아옴\n",
    "    data = response.json() # JSON 응답을 파이썬 딕셔너리로 변환\n",
    "    banned_user_ids = data[\"personaids\"]\n",
    "else:\n",
    "    # 오류 처리\n",
    "    print(f'Error: {response.status_code}')"
   ]
  },
  {
   "metadata": {},
   "cell_type": "markdown",
   "source": "# Ban User Stat 불러오기"
  },
  {
   "cell_type": "code",
   "execution_count": 3,
   "metadata": {
    "ExecuteTime": {
     "start_time": "2024-05-28T07:13:24.896798Z"
    }
   },
   "outputs": [
    {
     "name": "stderr",
     "output_type": "stream",
     "text": [
      "100%|██████████| 119569/119569 [175:13:09<00:00,  5.28s/it]        \n"
     ]
    }
   ],
   "source": [
    "import pandas as pd\n",
    "from tqdm import tqdm\n",
    "import time\n",
    "import requests\n",
    "import os\n",
    "from datetime import datetime\n",
    "\n",
    "data_df = pd.DataFrame()\n",
    "url = \"https://bfvhackers.com/api/v1/is-hacker?player-id=\"\n",
    "\n",
    "conn_cnt = 0\n",
    "start_time = time.time()\n",
    "\n",
    "# 백업 디렉토리 생성\n",
    "backup_dir = \"data_backups\"\n",
    "if not os.path.exists(backup_dir):\n",
    "    os.makedirs(backup_dir)\n",
    "\n",
    "for idx, id in enumerate(tqdm(banned_user_ids)):\n",
    "    while True:\n",
    "        try:\n",
    "            # URL에 접근하여 데이터 불러옴\n",
    "            response = requests.get(url + banned_user_ids[conn_cnt] + \"&stats=false\")\n",
    "            conn_cnt = idx\n",
    "\n",
    "            if response.status_code == 200:\n",
    "                data = response.json()\n",
    "                data = pd.json_normalize(data)\n",
    "                data_df = pd.concat([data_df, data])\n",
    "                \n",
    "                # 데이터를 수집한 후 백업\n",
    "                backup_file = os.path.join(backup_dir, f\"data_backup_{datetime.now().strftime('%Y%m%d_%H%M%S')}.csv\")\n",
    "                data.to_csv(backup_file, index=False)\n",
    "                \n",
    "                # 데이터를 수집하고 난 뒤에는, sleep을 통해 종료를 방지\n",
    "                conn_cnt += 1\n",
    "                if conn_cnt % 10000 == 0:\n",
    "                    time.sleep(600)\n",
    "                else:\n",
    "                    time.sleep(3)\n",
    "                break\n",
    "            \n",
    "            elif response.status_code == 404:\n",
    "                time.sleep(2)\n",
    "                break  # 404 오류는 재시도하지 않고 다음 ID로 넘어감\n",
    "    \n",
    "            else:\n",
    "                time.sleep(100)\n",
    "        \n",
    "        except Exception as e:\n",
    "            # 다른 모든 경우에도 재시도\n",
    "            time.sleep(10)\n",
    "\n",
    "# 전체 데이터를 CSV로 저장\n",
    "data_df.to_csv('data_collection.csv', index=False)\n"
   ]
  }
 ],
 "metadata": {
  "kernelspec": {
   "display_name": "Python 3 (ipykernel)",
   "language": "python",
   "name": "python3"
  },
  "language_info": {
   "codemirror_mode": {
    "name": "ipython",
    "version": 3
   },
   "file_extension": ".py",
   "mimetype": "text/x-python",
   "name": "python",
   "nbconvert_exporter": "python",
   "pygments_lexer": "ipython3",
   "version": "3.9.13"
  }
 },
 "nbformat": 4,
 "nbformat_minor": 2
}
