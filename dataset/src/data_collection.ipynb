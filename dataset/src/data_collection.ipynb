{
 "cells": [
  {
   "cell_type": "code",
   "execution_count": 15,
   "metadata": {},
   "outputs": [],
   "source": [
    "import requests\n",
    "import pandas as pd"
   ]
  },
  {
   "cell_type": "code",
   "execution_count": 18,
   "metadata": {},
   "outputs": [],
   "source": [
    "# Banned Player List 가져오기\n",
    "url = \"https://api.gametools.network/\"\n",
    "# params = {Key:Value}\n",
    "response = requests.get(url+\"bfban/banned_players/\")\n",
    "\n",
    "if response.status_code == 200:\n",
    "    # 성공적으로 데이터를 받아옴\n",
    "    data = response.json() # JSON 응답을 파이썬 딕셔너리로 변환\n",
    "    data_df = pd.DataFrame(data, columns=[\"personaids\"])\n",
    "    data_df.to_csv(\"./banned_players.csv\", index=False)\n",
    "else:\n",
    "    # 오류 처리\n",
    "    print(f'Error: {response.status_code}')"
   ]
  },
  {
   "cell_type": "code",
   "execution_count": 23,
   "metadata": {},
   "outputs": [
    {
     "ename": "ModuleNotFoundError",
     "evalue": "No module named 'selenium'",
     "output_type": "error",
     "traceback": [
      "\u001b[0;31m---------------------------------------------------------------------------\u001b[0m",
      "\u001b[0;31mModuleNotFoundError\u001b[0m                       Traceback (most recent call last)",
      "Cell \u001b[0;32mIn[23], line 2\u001b[0m\n\u001b[1;32m      1\u001b[0m \u001b[38;5;66;03m# Banned User 정보 가져오기\u001b[39;00m\n\u001b[0;32m----> 2\u001b[0m \u001b[38;5;28;01mfrom\u001b[39;00m \u001b[38;5;21;01mselenium\u001b[39;00m \u001b[38;5;28;01mimport\u001b[39;00m webdriver\n\u001b[1;32m      3\u001b[0m \u001b[38;5;28;01mfrom\u001b[39;00m \u001b[38;5;21;01mselenium\u001b[39;00m\u001b[38;5;21;01m.\u001b[39;00m\u001b[38;5;21;01mwebdriver\u001b[39;00m\u001b[38;5;21;01m.\u001b[39;00m\u001b[38;5;21;01mchrome\u001b[39;00m\u001b[38;5;21;01m.\u001b[39;00m\u001b[38;5;21;01mservice\u001b[39;00m \u001b[38;5;28;01mimport\u001b[39;00m Service\n\u001b[1;32m      4\u001b[0m \u001b[38;5;28;01mfrom\u001b[39;00m \u001b[38;5;21;01mselenium\u001b[39;00m\u001b[38;5;21;01m.\u001b[39;00m\u001b[38;5;21;01mwebdriver\u001b[39;00m\u001b[38;5;21;01m.\u001b[39;00m\u001b[38;5;21;01mcommon\u001b[39;00m\u001b[38;5;21;01m.\u001b[39;00m\u001b[38;5;21;01mby\u001b[39;00m \u001b[38;5;28;01mimport\u001b[39;00m By\n",
      "\u001b[0;31mModuleNotFoundError\u001b[0m: No module named 'selenium'"
     ]
    }
   ],
   "source": [
    "# Banned User 정보 가져오기\n",
    "from selenium import webdriver\n",
    "from selenium.webdriver.chrome.service import Service\n",
    "from selenium.webdriver.common.by import By\n",
    "from webdriver_manager.chrome import ChromeDriverManager\n",
    "import pandas as pd\n",
    "import time\n",
    "\n",
    "# 사용자 ID 목록 (예시)\n",
    "band_user_ids = [\"204752101\"]\n",
    "\n",
    "# 데이터를 저장할 리스트 초기화\n",
    "data = []\n",
    "\n",
    "# Selenium 드라이버 설정\n",
    "options = webdriver.ChromeOptions()\n",
    "options.headless = True  # 브라우저가 UI 없이 실행되도록 설정 (백그라운드 실행)\n",
    "driver = webdriver.Chrome(service=Service(ChromeDriverManager().install()), options=options)\n",
    "\n",
    "# 각 사용자 ID에 대해 반복\n",
    "for user_id in band_user_ids:\n",
    "    url = f'https://bfban.com/player/{user_id}'\n",
    "    driver.get(url)\n",
    "    \n",
    "    # 페이지 로딩 대기\n",
    "    time.sleep(5)  # 실제 웹 페이지에 따라 조정이 필요할 수 있습니다.\n",
    "    \n",
    "    # 필요한 데이터 추출\n",
    "    feature1_elements = driver.find_elements(By.CLASS_NAME, \"ivu-tag-text.ivu-tag-color-white\")\n",
    "    feature2_elements = driver.find_elements(By.CSS_SELECTOR, 'img.ivu-tag-text.ivu-tag-color-default')\n",
    "    feature3_elements = driver.find_elements(By.CSS_SELECTOR, 'span.ivu-tag.ivu-tag-size-default.ivu-tag-warning.ivu-tag-checked')\n",
    "    feature4_elements = driver.find_elements(By.CSS_SELECTOR, 'code.text-distinguishing-letter.ivu-col')\n",
    "    \n",
    "    # 데이터 추가\n",
    "    for f1, f2, f3, f4 in zip(feature1_elements, feature2_elements, feature3_elements, feature4_elements):\n",
    "        data.append({\n",
    "            'UserName': f1.text if f1 else '',\n",
    "            'ID': user_id,\n",
    "            'Feature2': f2.get_attribute('src') if f2 else '',\n",
    "            'Feature3': f3.text if f3 else '',\n",
    "            'Feature4': f4.text if f4 else '',\n",
    "        })\n",
    "\n",
    "# 드라이버 종료\n",
    "driver.quit()\n",
    "\n",
    "# 데이터프레임 생성 및 CSV 파일로 저장\n",
    "df = pd.DataFrame(data)\n",
    "csv_file_path = '/mnt/data/band_user_data_selenium.csv'\n",
    "df.to_csv(csv_file_path, index=False)\n",
    "\n",
    "print(f'CSV 파일이 생성되었습니다: {csv_file_path}')\n"
   ]
  },
  {
   "cell_type": "code",
   "execution_count": null,
   "metadata": {},
   "outputs": [],
   "source": []
  }
 ],
 "metadata": {
  "kernelspec": {
   "display_name": "Python 3 (ipykernel)",
   "language": "python",
   "name": "python3"
  },
  "language_info": {
   "codemirror_mode": {
    "name": "ipython",
    "version": 3
   },
   "file_extension": ".py",
   "mimetype": "text/x-python",
   "name": "python",
   "nbconvert_exporter": "python",
   "pygments_lexer": "ipython3",
   "version": "3.10.13"
  }
 },
 "nbformat": 4,
 "nbformat_minor": 2
}
