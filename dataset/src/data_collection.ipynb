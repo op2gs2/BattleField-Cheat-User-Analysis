{
 "cells": [
  {
   "cell_type": "code",
   "metadata": {
    "ExecuteTime": {
     "end_time": "2024-04-29T03:48:05.461355Z",
     "start_time": "2024-04-29T03:48:04.581786Z"
    }
   },
   "source": [
    "import requests\n",
    "\n",
    "# Banned Player List 가져오기\n",
    "url = \"https://api.gametools.network/\"\n",
    "response = requests.get(url+\"bfban/banned_players/\")\n",
    "\n",
    "banned_user_ids = []\n",
    "if response.status_code == 200:\n",
    "    # 성공적으로 데이터를 받아옴\n",
    "    data = response.json() # JSON 응답을 파이썬 딕셔너리로 변환\n",
    "    banned_user_ids = data[\"personaids\"]\n",
    "else:\n",
    "    # 오류 처리\n",
    "    print(f'Error: {response.status_code}')"
   ],
   "outputs": [],
   "execution_count": 1
  },
  {
   "metadata": {
    "ExecuteTime": {
     "end_time": "2024-04-29T03:48:05.477365Z",
     "start_time": "2024-04-29T03:48:05.462364Z"
    }
   },
   "cell_type": "code",
   "source": "saved_idx = 103407 # 저장이 진행된 횟수",
   "outputs": [],
   "execution_count": 2
  },
  {
   "metadata": {
    "jupyter": {
     "is_executing": true
    },
    "ExecuteTime": {
     "start_time": "2024-04-29T03:48:05.479392Z"
    }
   },
   "cell_type": "code",
   "source": [
    "# Banned Player List 확인\n",
    "from selenium.common import InvalidSessionIdException\n",
    "from selenium import webdriver\n",
    "from selenium.webdriver.chrome.service import Service\n",
    "from selenium.webdriver.common.by import By\n",
    "\n",
    "import pandas as pd\n",
    "import time\n",
    "\n",
    "# 데이터를 저장할 리스트 초기화\n",
    "data = []\n",
    "\n",
    "# Chrome 바이너리 위치와 ChromeDriver 경로 설정\n",
    "chrome_binary_path = \"E:/Github/BattleField-Bot-Detection/dataset/src/chrome/chrome.exe\"  # Chrome 실행 파일 위치\n",
    "chromedriver_path = \"E:/Github/BattleField-Bot-Detection/dataset/src/chrome/chromedriver.exe\"  # ChromeDriver 경로\n",
    "\n",
    "# Selenium 드라이버 설정\n",
    "options = webdriver.ChromeOptions()\n",
    "options.binary_location = chrome_binary_path  # Chrome 바이너리 위치 지정\n",
    "\n",
    "try:\n",
    "    driver = webdriver.Chrome(service=Service(chromedriver_path), options=options)  # or whichever driver you're using\n",
    "except InvalidSessionIdException:\n",
    "    print(\"Session became invalid. Restarting...\")\n",
    "    driver = webdriver.Chrome(service=Service(chromedriver_path), options=options)  # Restart the driver\n",
    "    # Continue from where you left off or restart your tasks\n",
    "\n",
    "# 각 사용자 ID에 대해 반복\n",
    "for idx in range(saved_idx, len(banned_user_ids)):\n",
    "    try:\n",
    "        # 사용자 ID에 대한 URL 생성\n",
    "        driver.get(f'https://bfban.com/player/{banned_user_ids[idx]}')\n",
    "        \n",
    "        # 페이지 로딩 대기\n",
    "        if idx % 1000 == 0:\n",
    "            time.sleep(10)\n",
    "        else:\n",
    "            time.sleep(3)\n",
    "        \n",
    "        user_type = driver.find_element(By.CLASS_NAME, \"ivu-tag-text.ivu-tag-color-white\").text\n",
    "        \n",
    "        game_img_src = driver.find_element(By.CSS_SELECTOR, \".ivu-tag-text.ivu-tag-color-default img\").get_attribute('src')\n",
    "        \n",
    "        # 여러 <span> 요소들 중 최대 3개까지 추출\n",
    "        bot_types = driver.find_elements(By.CSS_SELECTOR, \".ivu-tag.ivu-tag-size-default.ivu-tag-warning.ivu-tag-checked > span\")\n",
    "        bot_type_texts = [element.text for element in bot_types[:3]]  # 최대 3개의 요소 텍스트 추출\n",
    "        \n",
    "        date_times = []\n",
    "        datetime_element = driver.find_elements(By.CSS_SELECTOR, \"span.ivu-time\")\n",
    "        for element in datetime_element:\n",
    "            if element.text == \"\":\n",
    "                continue\n",
    "            elif element.text != \"\":\n",
    "                date_times.append(element.text)\n",
    "            else:\n",
    "                pass\n",
    "        Firstly_reported_date = date_times[0]\n",
    "        Recently_reported_date = date_times[1]\n",
    "        \n",
    "        # 추출된 텍스트들을 데이터에 추가\n",
    "        data_entry = {\n",
    "            'Type': user_type,\n",
    "            'ID': banned_user_ids[idx],\n",
    "            'game_img_src': game_img_src,\n",
    "            'Firstly reported date': Firstly_reported_date,\n",
    "            'Recently reported date': Recently_reported_date\n",
    "        }\n",
    "        \n",
    "        # 동적으로 키 생성하여 추출된 각 bot_type 저장\n",
    "        for i, bot_type_text in enumerate(bot_type_texts):\n",
    "            data_entry[f'bot_type_{i}'] = bot_type_text\n",
    "        \n",
    "        data.append(data_entry)\n",
    "        \n",
    "        # 데이터프레임 생성 및 CSV 파일로 저장\n",
    "        df = pd.DataFrame(data)\n",
    "        csv_file_path = './band_user_data_selenium.csv'\n",
    "        if saved_idx == 0:\n",
    "            df.to_csv(csv_file_path, index=False, mode='w')\n",
    "        else:\n",
    "            df.to_csv(csv_file_path, index=False, mode='a', header=False)\n",
    "        saved_idx = idx + 1\n",
    "        print(f\"데이터 저장 중: {saved_idx} / {len(banned_user_ids)}\", end='\\r')\n",
    "        \n",
    "        \n",
    "        \n",
    "    except Exception as e:\n",
    "        # 드라이버 종료\n",
    "        driver.quit()\n",
    "        # 새로운 드라이버 생성\n",
    "        try:\n",
    "            driver = webdriver.Chrome(service=Service(chromedriver_path), options=options)  # or whichever driver you're using\n",
    "        except InvalidSessionIdException:\n",
    "            print(\"Session became invalid. Restarting...\")\n",
    "            driver = webdriver.Chrome(service=Service(chromedriver_path), options=options)  # Restart the driver\n",
    "            # Continue from where you left off or restart your tasks\n",
    "\n",
    "            print(f\"Error retrieving data for user ID {banned_user_ids[idx]}: {e}\")\n",
    "            user_type = game_img_src = Firstly_reported_date = Recently_reported_date = ''\n",
    "            bot_type_texts = []\n",
    "        \n",
    "# 드라이버 종료\n",
    "driver.quit()\n",
    "\n",
    "print(f'CSV 파일이 생성되었습니다: {csv_file_path}')"
   ],
   "outputs": [],
   "execution_count": null
  },
  {
   "metadata": {
    "jupyter": {
     "is_executing": true
    }
   },
   "cell_type": "code",
   "source": [
    "# Dask를 사용하여 중복 제거\n",
    "import dask.dataframe as dd\n",
    "\n",
    "# CSV 파일 로드\n",
    "df = dd.read_csv('./band_user_data_selenium.csv')\n",
    "\n",
    "# 중복 제거\n",
    "df = df.dropna()\n",
    "df = df.drop_duplicates(axis=0)\n",
    "\n",
    "\n",
    "# 결과 저장\n",
    "df.compute().to_csv('your_file_no_duplicates.csv', index=False)"
   ],
   "outputs": [],
   "execution_count": null
  }
 ],
 "metadata": {
  "kernelspec": {
   "display_name": "Python 3 (ipykernel)",
   "language": "python",
   "name": "python3"
  },
  "language_info": {
   "codemirror_mode": {
    "name": "ipython",
    "version": 3
   },
   "file_extension": ".py",
   "mimetype": "text/x-python",
   "name": "python",
   "nbconvert_exporter": "python",
   "pygments_lexer": "ipython3",
   "version": "3.10.13"
  }
 },
 "nbformat": 4,
 "nbformat_minor": 2
}
